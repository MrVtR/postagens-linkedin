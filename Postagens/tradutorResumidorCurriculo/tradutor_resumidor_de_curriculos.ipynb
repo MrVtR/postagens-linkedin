{
 "cells": [
  {
   "cell_type": "code",
   "execution_count": null,
   "id": "790b227b-d865-4ba4-b4e1-95fb4acb56f3",
   "metadata": {
    "tags": []
   },
   "outputs": [],
   "source": [
    "%%capture \n",
    "#Remove os outputs de instalação das bibliotecas\n",
    "!pip install \"google-cloud-aiplatform>=1.38\"\n",
    "!pip install google-cloud-storage PyPDF2\n",
    "import vertexai\n",
    "from google.cloud import storage\n",
    "from google.oauth2 import service_account\n",
    "from google.cloud import storage\n",
    "from google.cloud import speech\n",
    "from vertexai.preview.generative_models import GenerativeModel, Part\n",
    "from google.cloud import storage\n",
    "import io\n",
    "from PyPDF2 import PdfReader"
   ]
  },
  {
   "cell_type": "code",
   "execution_count": null,
   "id": "dfeb6f46-e5fc-4301-a42d-dbb08796e89b",
   "metadata": {
    "tags": []
   },
   "outputs": [],
   "source": [
    "def extrair_texto_gcs_para_pdf(nome_bucket, nome_arquivo):\n",
    "    cliente = storage.Client()\n",
    "    bucket = cliente.get_bucket(nome_bucket)\n",
    "    blob = bucket.blob(nome_arquivo)\n",
    "    byte_stream = io.BytesIO()\n",
    "    blob.download_to_file(byte_stream)\n",
    "    \n",
    "    # Abaixo fica a leitura dos bytes que estão no pdf identificado\n",
    "    byte_stream.seek(0)\n",
    "    leitor_de_pdf = PdfReader(byte_stream)\n",
    "    texto = ''\n",
    "    for num_pag in range(len(leitor_de_pdf.pages)):\n",
    "        texto += leitor_de_pdf.pages[num_pag].extract_text()\n",
    "    \n",
    "    return texto\n",
    "\n",
    "# A leitura será a partir de um arquivo que está no Google Cloud Storage\n",
    "gcs_nome_bucket = os.getenv('BUCKET_NAME')\n",
    "gcs_nome_arquivo = os.getenv('FILE_NAME')\n",
    "texto_curriculo_completo = extrair_texto_gcs_para_pdf(gcs_nome_bucket, gcs_nome_arquivo)\n",
    "print(texto_curriculo_completo)"
   ]
  },
  {
   "cell_type": "code",
   "execution_count": null,
   "id": "fd8f43a5-125f-4a0b-b11a-ad6cd1131499",
   "metadata": {
    "tags": []
   },
   "outputs": [],
   "source": [
    "def tradutor_resumidor_curriculos(nome_projeto: str, localizacao_projeto: str, texto_curriculo_completo: str) -> str:\n",
    "    vertexai.init(project=nome_projeto, location=localizacao_projeto)\n",
    "    \n",
    "    multimodal_model = GenerativeModel(\"gemini-pro-vision\")\n",
    "    # Seu prompt pode também estar em outras línguas que a tarefa será executada também, como em inglês\n",
    "    response = multimodal_model.generate_content(\n",
    "        [\n",
    "            \"\"\"Você fará o papel de um recrutador do Linkedin, resuma os currículos apresentados, traduza eles para português brasileiro\n",
    "            e separe as informações em tópicos, seu resumo deve conter os seguintes campos: Nome do candidato, localização, introdução,\n",
    "            habilidades, educação, experiências prévias, certificados e experiências voluntárias, nesta ordem específica,\n",
    "            abaixo está o currículo:\"\"\",\n",
    "            texto_curriculo_completo\n",
    "        ]\n",
    "    )\n",
    "    print(response.candidates[0].content.parts[0].text)\n",
    "    return response.candidates[0].content.parts[0].text\n",
    "\n",
    "nome_projeto = os.getenv('PROJECT_NAME')\n",
    "localizacao_projeto = os.getenv('PROJECT_LOCATION')\n",
    "curriculo_resumido = tradutor_resumidor_curriculos(nome_projeto, localizacao_projeto, texto_curriculo_completo)"
   ]
  },
  {
   "cell_type": "code",
   "execution_count": null,
   "id": "afb452f2-9e6c-421b-b1a0-2ff185373c2b",
   "metadata": {},
   "outputs": [],
   "source": []
  }
 ],
 "metadata": {
  "environment": {
   "kernel": "conda-root-py",
   "name": "workbench-notebooks.m113",
   "type": "gcloud",
   "uri": "gcr.io/deeplearning-platform-release/workbench-notebooks:m113"
  },
  "kernelspec": {
   "display_name": "Python 3 (ipykernel) (Local)",
   "language": "python",
   "name": "conda-root-py"
  },
  "language_info": {
   "codemirror_mode": {
    "name": "ipython",
    "version": 3
   },
   "file_extension": ".py",
   "mimetype": "text/x-python",
   "name": "python",
   "nbconvert_exporter": "python",
   "pygments_lexer": "ipython3",
   "version": "3.10.13"
  }
 },
 "nbformat": 4,
 "nbformat_minor": 5
}
