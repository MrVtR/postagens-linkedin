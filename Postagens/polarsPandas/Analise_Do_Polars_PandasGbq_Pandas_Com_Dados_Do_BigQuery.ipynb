{
 "cells": [
  {
   "cell_type": "markdown",
   "id": "49bd2eb0",
   "metadata": {},
   "source": [
    "# Improtação das bibliotecas"
   ]
  },
  {
   "cell_type": "code",
   "execution_count": 87,
   "id": "05102ae8",
   "metadata": {},
   "outputs": [],
   "source": [
    "from google.cloud import bigquery\n",
    "from google.auth import impersonated_credentials, default\n",
    "from datetime import timedelta\n",
    "import os\n",
    "import numpy as np\n",
    "import polars as pl\n",
    "import matplotlib.pyplot as plt\n",
    "import time"
   ]
  },
  {
   "cell_type": "markdown",
   "id": "cf173e19",
   "metadata": {},
   "source": [
    "# Estrutura da tabela que vamos usar nas comparações"
   ]
  },
  {
   "cell_type": "code",
   "execution_count": 138,
   "id": "7a1852b4",
   "metadata": {
    "scrolled": true
   },
   "outputs": [
    {
     "name": "stdout",
     "output_type": "stream",
     "text": [
      "Tamanho dos dados: (10000000, 4)\n"
     ]
    },
    {
     "data": {
      "text/html": [
       "<div><style>\n",
       ".dataframe > thead > tr,\n",
       ".dataframe > tbody > tr {\n",
       "  text-align: right;\n",
       "  white-space: pre-wrap;\n",
       "}\n",
       "</style>\n",
       "<small>shape: (5, 4)</small><table border=\"1\" class=\"dataframe\"><thead><tr><th>id</th><th>cidade</th><th>estado</th><th>pais</th></tr><tr><td>str</td><td>str</td><td>str</td><td>str</td></tr></thead><tbody><tr><td>&quot;1&quot;</td><td>&quot;Campinas&quot;</td><td>&quot;São Paulo&quot;</td><td>&quot;Brasil&quot;</td></tr><tr><td>&quot;2&quot;</td><td>&quot;São Paulo&quot;</td><td>&quot;São Paulo&quot;</td><td>&quot;Brasil&quot;</td></tr><tr><td>&quot;3&quot;</td><td>&quot;Sacramento&quot;</td><td>&quot;Califórnia&quot;</td><td>&quot;EUA&quot;</td></tr><tr><td>&quot;4&quot;</td><td>&quot;Melbourne&quot;</td><td>&quot;Vitória&quot;</td><td>&quot;Austrália&quot;</td></tr><tr><td>&quot;5&quot;</td><td>&quot;Dhali&quot;</td><td>&quot;Tamil Nadu&quot;</td><td>&quot;Índia&quot;</td></tr></tbody></table></div>"
      ],
      "text/plain": [
       "shape: (5, 4)\n",
       "┌─────┬────────────┬────────────┬───────────┐\n",
       "│ id  ┆ cidade     ┆ estado     ┆ pais      │\n",
       "│ --- ┆ ---        ┆ ---        ┆ ---       │\n",
       "│ str ┆ str        ┆ str        ┆ str       │\n",
       "╞═════╪════════════╪════════════╪═══════════╡\n",
       "│ 1   ┆ Campinas   ┆ São Paulo  ┆ Brasil    │\n",
       "│ 2   ┆ São Paulo  ┆ São Paulo  ┆ Brasil    │\n",
       "│ 3   ┆ Sacramento ┆ Califórnia ┆ EUA       │\n",
       "│ 4   ┆ Melbourne  ┆ Vitória    ┆ Austrália │\n",
       "│ 5   ┆ Dhali      ┆ Tamil Nadu ┆ Índia     │\n",
       "└─────┴────────────┴────────────┴───────────┘"
      ]
     },
     "execution_count": 138,
     "metadata": {},
     "output_type": "execute_result"
    }
   ],
   "source": [
    "print(\"Tamanho dos dados:\",polars_dataset.shape)\n",
    "polars_dataset.head()"
   ]
  },
  {
   "cell_type": "markdown",
   "id": "784815f9",
   "metadata": {},
   "source": [
    "# Funções importantes usadas no código"
   ]
  },
  {
   "cell_type": "markdown",
   "id": "a715419c",
   "metadata": {},
   "source": [
    "## Variáveis de ambiente usadas"
   ]
  },
  {
   "cell_type": "code",
   "execution_count": 92,
   "id": "cb58f079",
   "metadata": {},
   "outputs": [],
   "source": [
    "project_id = os.environ.get(\"PROJECT_ID\")\n",
    "dataset_id =  os.environ.get(\"DATASET_ID\")\n",
    "table_id = os.environ.get(\"TABLE_ID\")"
   ]
  },
  {
   "cell_type": "code",
   "execution_count": null,
   "id": "b5e0941a",
   "metadata": {},
   "outputs": [],
   "source": []
  },
  {
   "cell_type": "code",
   "execution_count": 106,
   "id": "98881416",
   "metadata": {},
   "outputs": [],
   "source": [
    "def polars_big_query():\n",
    "    client = bigquery.Client(project=project_id)\n",
    "    \n",
    "    query = f\"SELECT id, cidade, estado, país FROM `{project_id}.{dataset_id}.{table_id}` limit 10000000\"\n",
    "    \n",
    "    query_job = client.query(query)\n",
    "    rows = query_job.result()\n",
    "    data = pl.from_arrow(rows.to_arrow())\n",
    "    client.close()\n",
    "    print(data.shape)\n",
    "    return data"
   ]
  },
  {
   "cell_type": "code",
   "execution_count": 107,
   "id": "874aa6a4",
   "metadata": {},
   "outputs": [],
   "source": [
    "def pandas_gbq_query():\n",
    "    client = bigquery.Client(project=project_id)\n",
    "    table_ref = client.dataset(dataset_id, project=project_id).table(table_id)\n",
    "    table = client.get_table(table_ref)\n",
    "\n",
    "    query = f\"SELECT id, cidade, estado, pais FROM `{project_id}.{dataset_id}.{table_id}` limit 10000000\"\n",
    "\n",
    "    query_job = client.query(query)\n",
    "    data = query_job.to_dataframe()\n",
    "    print(data.shape)\n",
    "    return data"
   ]
  },
  {
   "cell_type": "code",
   "execution_count": 108,
   "id": "d4aa62ba",
   "metadata": {},
   "outputs": [],
   "source": [
    "def pandas_query():\n",
    "    client = bigquery.Client(project=project_id)\n",
    "    table_ref = client.dataset(dataset_id, project=project_id).table(table_id)\n",
    "    table = client.get_table(table_ref)\n",
    "    query = f\"SELECT id, cidade, estado, país FROM `{project_id}.{dataset_id}.{table_id}` limit 10000000\"\n",
    "\n",
    "    query_job = client.query(query)\n",
    "    data = query_job.to_dataframe()\n",
    "    print(data.shape)\n",
    "    return data"
   ]
  },
  {
   "cell_type": "markdown",
   "id": "aee5cf80",
   "metadata": {},
   "source": [
    "# Consultas e Comparações"
   ]
  },
  {
   "cell_type": "markdown",
   "id": "028c8f6d",
   "metadata": {},
   "source": [
    "### Variável temposQueries: Guarda o tempo em segundos de 15 execuções para cada biblioteca usada\n",
    "- 1ª linha: **Polars**\n",
    "- 2ª linha: **Pandas-Gbq**\n",
    "- 3ª linha: **Pandas**\n",
    "\n",
    "Cada linha terá sua média feita e armazenada na variável **mediasQueries**, depois plotaremos os dados em um gráfico para análise"
   ]
  },
  {
   "cell_type": "code",
   "execution_count": 57,
   "id": "8271d705",
   "metadata": {
    "scrolled": true
   },
   "outputs": [
    {
     "name": "stdout",
     "output_type": "stream",
     "text": [
      "[[0. 0. 0. 0. 0. 0. 0. 0. 0. 0. 0. 0. 0. 0. 0.]\n",
      " [0. 0. 0. 0. 0. 0. 0. 0. 0. 0. 0. 0. 0. 0. 0.]\n",
      " [0. 0. 0. 0. 0. 0. 0. 0. 0. 0. 0. 0. 0. 0. 0.]]\n"
     ]
    }
   ],
   "source": [
    "temposQueries = np.zeros((3, 15))\n",
    "temposQueries"
   ]
  },
  {
   "cell_type": "code",
   "execution_count": 58,
   "id": "ba499c71",
   "metadata": {},
   "outputs": [
    {
     "data": {
      "text/plain": [
       "array([0., 0., 0.])"
      ]
     },
     "execution_count": 58,
     "metadata": {},
     "output_type": "execute_result"
    }
   ],
   "source": [
    "mediasQueries = np.zeros((3))\n",
    "mediasQueries"
   ]
  },
  {
   "cell_type": "markdown",
   "id": "4a4804d6",
   "metadata": {},
   "source": [
    "<font size= \"3\">\n",
    "Cada query está sendo avaliada com <b>10 milhões de itens</b>, pra não acabar usando 100% da memória RAM do usuário.\n",
    "<br/><br/>\n",
    "A análise será baseada no cálculo de 10mi x 15 = 150mi de dados, considerando que o tempo será <b>constante</b> para a mesma quantidade de dados sempre, <b>mas sabemos que pode variar um pouco, tanto para mais quanto para menos</b>.\n",
    "</font>"
   ]
  },
  {
   "cell_type": "markdown",
   "id": "b6c7b424",
   "metadata": {},
   "source": [
    "## Usando a biblioteca Polars com o BigQuery"
   ]
  },
  {
   "cell_type": "code",
   "execution_count": 59,
   "id": "a045402c",
   "metadata": {},
   "outputs": [
    {
     "name": "stdout",
     "output_type": "stream",
     "text": [
      "Iteração: 0\n",
      "Iteração: 1\n",
      "Iteração: 2\n",
      "Iteração: 3\n",
      "Iteração: 4\n",
      "Iteração: 5\n",
      "Iteração: 6\n",
      "Iteração: 7\n",
      "Iteração: 8\n",
      "Iteração: 9\n",
      "Iteração: 10\n",
      "Iteração: 11\n",
      "Iteração: 12\n",
      "Iteração: 13\n",
      "Iteração: 14\n",
      "Média de 15 buscas usando o Polars, medido em segundos: 285.062\n"
     ]
    }
   ],
   "source": [
    "for i in range(0,15):\n",
    "    print(\"Iteração:\",i)\n",
    "    start_time = time.monotonic()\n",
    "    polars_dataset = polars_big_query()\n",
    "    end_time = time.monotonic()\n",
    "    tempo = timedelta(seconds=end_time - start_time)\n",
    "    temposQueries[0,i] = 15 * tempo.total_seconds()\n",
    "mediasQueries[0] = np.mean(temposQueries[0])\n",
    "print(\"Média de 15 buscas usando o Polars, medido em segundos:\",mediasQueries[0])"
   ]
  },
  {
   "cell_type": "markdown",
   "id": "9c6d5152",
   "metadata": {},
   "source": [
    "## Usando a biblioteca Pandas-gbq com o BigQuery"
   ]
  },
  {
   "cell_type": "code",
   "execution_count": 60,
   "id": "096d9cdd",
   "metadata": {},
   "outputs": [
    {
     "name": "stdout",
     "output_type": "stream",
     "text": [
      "Iteração: 0\n",
      "Iteração: 1\n",
      "Iteração: 2\n",
      "Iteração: 3\n",
      "Iteração: 4\n",
      "Iteração: 5\n",
      "Iteração: 6\n",
      "Iteração: 7\n",
      "Iteração: 8\n",
      "Iteração: 9\n",
      "Iteração: 10\n",
      "Iteração: 11\n",
      "Iteração: 12\n",
      "Iteração: 13\n",
      "Iteração: 14\n",
      "Média de 15 buscas usando o Pandas-gbq, medido em segundos: 305.57800000000003\n"
     ]
    }
   ],
   "source": [
    "for i in range(0,15):\n",
    "    print(\"Iteração:\",i)\n",
    "    start_time = time.monotonic()\n",
    "    pandas_gbq_dataset = pandas_gbq_query()\n",
    "    end_time = time.monotonic()\n",
    "    tempo = timedelta(seconds=end_time - start_time)\n",
    "    temposQueries[1,i] = 15 * tempo.total_seconds()\n",
    "mediasQueries[1] = np.mean(temposQueries[1])\n",
    "print(\"Média de 15 buscas usando o Pandas-gbq, medido em segundos:\",mediasQueries[1])"
   ]
  },
  {
   "cell_type": "markdown",
   "id": "faa1d92c",
   "metadata": {},
   "source": [
    "## Usando a biblioteca Pandas com o BigQuery"
   ]
  },
  {
   "cell_type": "code",
   "execution_count": 61,
   "id": "a4870b3b",
   "metadata": {},
   "outputs": [
    {
     "name": "stdout",
     "output_type": "stream",
     "text": [
      "Iteração: 0\n",
      "Iteração: 1\n",
      "Iteração: 2\n",
      "Iteração: 3\n",
      "Iteração: 4\n",
      "Iteração: 5\n",
      "Iteração: 6\n",
      "Iteração: 7\n",
      "Iteração: 8\n",
      "Iteração: 9\n",
      "Iteração: 10\n",
      "Iteração: 11\n",
      "Iteração: 12\n",
      "Iteração: 13\n",
      "Iteração: 14\n",
      "Média de 15 buscas usando o Pandas, medido em segundos: 329.93800000000005\n"
     ]
    }
   ],
   "source": [
    "for i in range(0,15):\n",
    "    print(\"Iteração:\",i)\n",
    "    start_time = time.monotonic()\n",
    "    pandas_dataset = pandas_query()\n",
    "    end_time = time.monotonic()\n",
    "    tempo = timedelta(seconds=end_time - start_time)\n",
    "    temposQueries[2,i] = 15 * tempo.total_seconds()\n",
    "mediasQueries[2] = np.mean(temposQueries[2])\n",
    "print(\"Média de 15 buscas usando o Pandas, medido em segundos:\",mediasQueries[2])"
   ]
  },
  {
   "cell_type": "markdown",
   "id": "50957293",
   "metadata": {},
   "source": [
    "## Plotagem de Gráficos"
   ]
  },
  {
   "cell_type": "markdown",
   "id": "8be9d320",
   "metadata": {},
   "source": [
    "### Valores de cada execução a serem usados no gráfico de linhas:"
   ]
  },
  {
   "cell_type": "code",
   "execution_count": 100,
   "id": "51ed6f40",
   "metadata": {
    "scrolled": true
   },
   "outputs": [
    {
     "data": {
      "text/plain": [
       "array([[316.395, 309.15 , 307.02 , 285.48 , 251.715, 235.305, 272.115,\n",
       "        288.045, 269.775, 281.01 , 273.51 , 277.98 , 276.795, 350.385,\n",
       "        281.25 ],\n",
       "       [317.82 , 317.805, 305.16 , 327.195, 297.645, 305.625, 307.035,\n",
       "        300.945, 301.875, 319.215, 294.6  , 283.83 , 306.795, 297.435,\n",
       "        300.69 ],\n",
       "       [668.67 , 310.32 , 307.725, 302.58 , 304.455, 309.615, 299.775,\n",
       "        302.1  , 302.355, 304.92 , 305.625, 307.965, 301.41 , 321.09 ,\n",
       "        300.465]])"
      ]
     },
     "execution_count": 100,
     "metadata": {},
     "output_type": "execute_result"
    }
   ],
   "source": [
    "temposQueries"
   ]
  },
  {
   "cell_type": "code",
   "execution_count": 101,
   "id": "4bdc6aad",
   "metadata": {},
   "outputs": [
    {
     "data": {
      "image/png": "[encoded data removed]",
      "text/plain": [
       "<Figure size 640x480 with 1 Axes>"
      ]
     },
     "metadata": {},
     "output_type": "display_data"
    }
   ],
   "source": [
    "labels = [\"Polars\",\"Pandas-gbq\",\"Pandas\"]\n",
    "x_values = np.arange(temposQueries.shape[1])\n",
    "for i in range(temposQueries.shape[0]):\n",
    "    plt.plot(x_values, temposQueries[i], label=labels[i])  # Plot each row as a separate line\n",
    "\n",
    "plt.xlabel('Iteração do Algoritmo')\n",
    "plt.ylabel('Tempo em Segundos')\n",
    "plt.title('Tempo de cada biblioteca para selecionar cerca de 150 milhões de dados por busca, vindos do BigQuery')\n",
    "\n",
    "plt.legend()\n",
    "plt.grid(True)\n",
    "plt.show()"
   ]
  },
  {
   "cell_type": "markdown",
   "id": "4aa21f53",
   "metadata": {},
   "source": [
    "<font size= \"3\">\n",
    "    Com o gráfico acima, podemos perceber alguns detalhes importantes sobre as buscas de cada biblioteca usada:\n",
    "    <br/>\n",
    "    <ul>\n",
    "        <li>O Pandas teve um tempo de execução inicial <b>muito mais alto que o Polars</b> -> 668,67seg x 316,395seg, pouco mais que o dobro, porém, após isso, o algoritmo teve seu fluxo de tempo constante praticamente, com <b>pequenas variações</b> de segundos.</li>\n",
    "        <br/>\n",
    "        <li>O Pandas-gbq teve um início em cerca de 317,82seg e se manteve com <b>poucas variações</b> também, tendo sua maior variação com pouco menos que 30 segundos, entre a 3ª e 4ª iteração.</li>\n",
    "        <br/>\n",
    "        <li>O Polars teve as <b>maiores oscilações</b> que pudemos ver, assim como os <b>menores valores</b> de tempo alcançados, com um mínimo de <b>235,305seg</b> e máximo de <b>350seg</b>.\n",
    "            <ul>\n",
    "                <li>\n",
    "                    Além disso, em sua 13ª iteração, ele foi o <b>campeão</b> no tempo de execução.\n",
    "                </li>\n",
    "            </ul>\n",
    "        </li>\n",
    "    </ul>\n",
    "</font>"
   ]
  },
  {
   "cell_type": "markdown",
   "id": "fbdd66ff",
   "metadata": {},
   "source": [
    "### Valores médios de cada biblioteca que serão usados no gráfico de colunas: "
   ]
  },
  {
   "cell_type": "code",
   "execution_count": 102,
   "id": "42dfdaaa",
   "metadata": {},
   "outputs": [
    {
     "data": {
      "text/plain": [
       "array([285.062, 305.578, 329.938])"
      ]
     },
     "execution_count": 102,
     "metadata": {},
     "output_type": "execute_result"
    }
   ],
   "source": [
    "mediasQueries"
   ]
  },
  {
   "cell_type": "code",
   "execution_count": 113,
   "id": "296e3115",
   "metadata": {},
   "outputs": [
    {
     "data": {
      "image/png": "[encoded data removed]",
      "text/plain": [
       "<Figure size 640x480 with 1 Axes>"
      ]
     },
     "metadata": {},
     "output_type": "display_data"
    }
   ],
   "source": [
    "y_values = [\"Polars\",\"Pandas-gbq\",\"Pandas\"]\n",
    "colors = ['red', 'blue', 'green']\n",
    "bars = plt.barh(y_values, mediasQueries)\n",
    "\n",
    "for i, value in enumerate(mediasQueries):\n",
    "    bars[i].set_color(colors[i])\n",
    "    plt.text(value + max(data) * 0.02, i, f'{value:.2f}', ha='left', va='center')\n",
    "\n",
    "plt.xlim(0, max(data) * 1.2)\n",
    "\n",
    "plt.xlabel('Tempo em Segundos')\n",
    "plt.ylabel('Bibliotecas')\n",
    "plt.title('Média de tempo com cada biblioteca para selecionar cerca de 150 milhões de dados, vindos do BigQuery')\n",
    "plt.show()"
   ]
  },
  {
   "cell_type": "markdown",
   "id": "ec5f1fe9",
   "metadata": {},
   "source": [
    "<font size= \"3\">\n",
    "    A análise do gráfico revela que a biblioteca Polars se sobressaiu como a opção <b>mais eficaz</b> entre as três para conduzir uma busca em uma tabela do BigQuery com <b>150 milhões de registros</b>.\n",
    "    <br/><br/>\n",
    "    O desempenho médio do Polars destacou-se ao ser cerca de <b>20 segundos</b> mais rápido que o Pandas-gbq e quase <b>50 segundos</b> mais veloz que o Pandas, evidenciando ser mais veloz no processamento de dados massivos.\n",
    "</font>"
   ]
  },
  {
   "cell_type": "markdown",
   "id": "2c9e440f",
   "metadata": {},
   "source": [
    "## Bônus: Conversão de dataframe Polars para Pandas e Pandas para Polars "
   ]
  },
  {
   "cell_type": "markdown",
   "id": "bda63c17",
   "metadata": {},
   "source": [
    "### Tá precisando converter um dataframe Polars para Pandas? Saca só!"
   ]
  },
  {
   "cell_type": "code",
   "execution_count": 120,
   "id": "e22146a9",
   "metadata": {},
   "outputs": [
    {
     "name": "stdout",
     "output_type": "stream",
     "text": [
      "<class 'pandas.core.frame.DataFrame'>\n",
      "(10000000, 4)\n"
     ]
    }
   ],
   "source": [
    "pd_dataset_convertido = polars_dataset.to_pandas()\n",
    "print(type(pd_dataset_convertido))\n",
    "print(pd_dataset_convertido.shape)"
   ]
  },
  {
   "cell_type": "markdown",
   "id": "f6874aa7",
   "metadata": {},
   "source": [
    "### Tá precisando criar um dataframe Polars baseado em um do Pandas? Olha que demais!"
   ]
  },
  {
   "cell_type": "code",
   "execution_count": 119,
   "id": "f73dcb94",
   "metadata": {},
   "outputs": [
    {
     "name": "stdout",
     "output_type": "stream",
     "text": [
      "<class 'polars.dataframe.frame.DataFrame'>\n",
      "(10000000, 4)\n"
     ]
    }
   ],
   "source": [
    "pl_dataset_convertido = pl.from_pandas(pd_dataset_convertido)\n",
    "print(type(pl_dataset_convertido))\n",
    "print(pd_dataset_convertido.shape)"
   ]
  },
  {
   "cell_type": "markdown",
   "id": "f10fde7d",
   "metadata": {},
   "source": [
    "# Conclusão\n"
   ]
  },
  {
   "cell_type": "markdown",
   "id": "9c6ce3a8",
   "metadata": {},
   "source": [
    "<font size= \"3\">\n",
    "    Desse modo, podemos afirmar que o Polars é, de fato, uma <b>biblioteca extremamente versátil e de fácil manipulação</b>. Sua notável rapidez na execução de tarefas é acompanhada pela sua capacidade de atender a uma variedade de necessidades que podemos ter no decorrer de um projeto, principalmente quando queremos <b>carregar e manipular dados rapidamente</b>. \n",
    "    <br/><br/>\n",
    "    Além disso, o Polars oferece a flexibilidade da converter um DataFrame Polars para um DataFrame Pandas e <b>vice-versa também</b>, permitindo que programadores utilizem ambas as bibliotecas e tirem proveito das vantagens de desempenho específicas de cada uma.\n",
    "    <br/><br/>\n",
    "    Essa abordagem proporciona a possibilidade de <b>escolher a melhor solução</b>, aproveitando o desempenho superior de cada biblioteca para obter resultados rápidos e eficientes, de acordo com o contexto e aplicação que está sendo feita.\n",
    "</font>"
   ]
  },
  {
   "cell_type": "code",
   "execution_count": null,
   "id": "611ea1ce",
   "metadata": {},
   "outputs": [],
   "source": []
  }
 ],
 "metadata": {
  "kernelspec": {
   "display_name": "Python 3 (ipykernel)",
   "language": "python",
   "name": "python3"
  },
  "language_info": {
   "codemirror_mode": {
    "name": "ipython",
    "version": 3
   },
   "file_extension": ".py",
   "mimetype": "text/x-python",
   "name": "python",
   "nbconvert_exporter": "python",
   "pygments_lexer": "ipython3",
   "version": "3.10.8"
  }
 },
 "nbformat": 4,
 "nbformat_minor": 5
}
