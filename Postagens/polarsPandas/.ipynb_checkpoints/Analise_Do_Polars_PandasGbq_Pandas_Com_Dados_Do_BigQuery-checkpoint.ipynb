{
 "cells": [
  {
   "cell_type": "code",
   "execution_count": 1,
   "id": "05102ae8",
   "metadata": {},
   "outputs": [],
   "source": [
    "import os\n",
    "import polars as pl\n",
    "from google.cloud import bigquery\n",
    "from google.auth import impersonated_credentials, default\n",
    "import time\n",
    "from datetime import timedelta"
   ]
  },
  {
   "cell_type": "markdown",
   "id": "784815f9",
   "metadata": {},
   "source": [
    "# Funções importantes usadas no código"
   ]
  },
  {
   "cell_type": "code",
   "execution_count": 19,
   "id": "08ab2d0f",
   "metadata": {},
   "outputs": [],
   "source": [
    "def polars_big_query():\n",
    "    client = bigquery.Client()\n",
    "    query = f\"SELECT origin_key, address, entity_key, blockchain FROM `vaas-dev-dt-dwh-cur-1.vaas_dev_dt_dwh_cur_entity_and_address_labelling_bq_0.address_labels` limit 10\"\n",
    "    query_job = client.query(query)\n",
    "    rows = query_job.result()\n",
    "    bq_data = pl.from_arrow(rows.to_arrow())\n",
    "    client.close()\n",
    "    print(bq_data.shape)\n",
    "    return bq_data"
   ]
  },
  {
   "cell_type": "code",
   "execution_count": 20,
   "id": "681f73bb",
   "metadata": {},
   "outputs": [],
   "source": [
    "def pandas_gbqQuery():\n",
    "    project_id = 'vaas-dev-dt-dwh-cur-1'\n",
    "    bq_client = bigquery.Client(project=project_id)\n",
    "\n",
    "    dataset_id = 'vaas_dev_dt_dwh_cur_entity_and_address_labelling_bq_0'\n",
    "    table_id = 'address_labels'\n",
    "    table_ref = bq_client.dataset(\n",
    "        dataset_id, project=project_id).table(table_id)\n",
    "    table = bq_client.get_table(table_ref)\n",
    "\n",
    "    query = f\"SELECT origin_key, address, entity_key, blockchain FROM `{project_id}.vaas_dev_dt_dwh_cur_entity_and_address_labelling_bq_0.address_labels` limit 10000000\"\n",
    "\n",
    "    query_job = bq_client.query(query)\n",
    "    df = query_job.to_dataframe()\n",
    "    print(df.shape)"
   ]
  },
  {
   "cell_type": "code",
   "execution_count": 21,
   "id": "7def1498",
   "metadata": {},
   "outputs": [],
   "source": [
    "def pandasQuery():\n",
    "    project_id = 'vaas-dev-dt-dwh-cur-1'\n",
    "    bq_client = bigquery.Client(project=project_id)\n",
    "\n",
    "    dataset_id = 'vaas_dev_dt_dwh_cur_entity_and_address_labelling_bq_0'\n",
    "    table_id = 'address_labels'\n",
    "    table_ref = bq_client.dataset(\n",
    "        dataset_id, project=project_id).table(table_id)\n",
    "\n",
    "    table = bq_client.get_table(table_ref)\n",
    "\n",
    "    query = f\"SELECT distinct origin_key, address, entity_key, blockchain FROM `vaas-dev-dt-dwh-cur-1.vaas_dev_dt_dwh_cur_entity_and_address_labelling_bq_0.address_labels` limit 10000000\"\n",
    "\n",
    "    query_job = bq_client.query(query)\n",
    "    df = query_job.to_dataframe()\n",
    "    print(df.shape)"
   ]
  },
  {
   "cell_type": "code",
   "execution_count": 22,
   "id": "56f362c5",
   "metadata": {},
   "outputs": [
    {
     "data": {
      "text/html": [
       "<div><style>\n",
       ".dataframe > thead > tr,\n",
       ".dataframe > tbody > tr {\n",
       "  text-align: right;\n",
       "  white-space: pre-wrap;\n",
       "}\n",
       "</style>\n",
       "<small>shape: (5, 4)</small><table border=\"1\" class=\"dataframe\"><thead><tr><th>origin_key</th><th>address</th><th>entity_key</th><th>blockchain</th></tr><tr><td>str</td><td>str</td><td>str</td><td>str</td></tr></thead><tbody><tr><td>&quot;1&quot;</td><td>&quot;Campinas&quot;</td><td>&quot;São Paulo&quot;</td><td>&quot;Brasil&quot;</td></tr><tr><td>&quot;2&quot;</td><td>&quot;São Paulo&quot;</td><td>&quot;São Paulo&quot;</td><td>&quot;Brasil&quot;</td></tr><tr><td>&quot;3&quot;</td><td>&quot;Tóquio&quot;</td><td>&quot;Tokyo-to&quot;</td><td>&quot;Japão&quot;</td></tr><tr><td>&quot;4&quot;</td><td>&quot;Melbourne&quot;</td><td>&quot;Vitória&quot;</td><td>&quot;Austrália&quot;</td></tr><tr><td>&quot;5&quot;</td><td>&quot;Dhali&quot;</td><td>&quot;Tamil Nadu&quot;</td><td>&quot;Índia&quot;</td></tr></tbody></table></div>"
      ],
      "text/plain": [
       "shape: (5, 4)\n",
       "┌────────────┬───────────┬────────────┬────────────┐\n",
       "│ origin_key ┆ address   ┆ entity_key ┆ blockchain │\n",
       "│ ---        ┆ ---       ┆ ---        ┆ ---        │\n",
       "│ str        ┆ str       ┆ str        ┆ str        │\n",
       "╞════════════╪═══════════╪════════════╪════════════╡\n",
       "│ 1          ┆ Campinas  ┆ São Paulo  ┆ Brasil     │\n",
       "│ 2          ┆ São Paulo ┆ São Paulo  ┆ Brasil     │\n",
       "│ 3          ┆ Tóquio    ┆ Tokyo-to   ┆ Japão      │\n",
       "│ 4          ┆ Melbourne ┆ Vitória    ┆ Austrália  │\n",
       "│ 5          ┆ Dhali     ┆ Tamil Nadu ┆ Índia      │\n",
       "└────────────┴───────────┴────────────┴────────────┘"
      ]
     },
     "execution_count": 22,
     "metadata": {},
     "output_type": "execute_result"
    }
   ],
   "source": [
    "df1 = pl.DataFrame({\n",
    "    \"origin_key\": [\"1\",\"2\",\"3\",\"4\",\"5\"],\n",
    "    \"address\": [\"Campinas\",\"São Paulo\", \"Tóquio\", \"Melbourne\", \"Dhali\"],\n",
    "    \"entity_key\":[\"São Paulo\", \"São Paulo\", \"Tokyo-to\",\"Vitória\", \"Tamil Nadu\"],\n",
    "    \"blockchain\":[\"Brasil\",\"Brasil\",\"Japão\",\"Austrália\",\"Índia\"]})\n",
    "df1.head()"
   ]
  },
  {
   "cell_type": "code",
   "execution_count": null,
   "id": "0fab2e2f",
   "metadata": {},
   "outputs": [],
   "source": []
  },
  {
   "cell_type": "markdown",
   "id": "aee5cf80",
   "metadata": {},
   "source": [
    "# Consultas e Comparações"
   ]
  },
  {
   "cell_type": "code",
   "execution_count": 23,
   "id": "8271d705",
   "metadata": {},
   "outputs": [],
   "source": [
    "temposQueries = []"
   ]
  },
  {
   "cell_type": "markdown",
   "id": "b6c7b424",
   "metadata": {},
   "source": [
    "## BigQuery usando a biblioteca Polars"
   ]
  },
  {
   "cell_type": "code",
   "execution_count": 33,
   "id": "a045402c",
   "metadata": {},
   "outputs": [
    {
     "name": "stdout",
     "output_type": "stream",
     "text": [
      "(10, 4)\n",
      "96.795\n"
     ]
    }
   ],
   "source": [
    "start_time = time.monotonic()\n",
    "polars_dataset = polars_big_query()\n",
    "end_time = time.monotonic()\n",
    "tempo = timedelta(seconds=end_time - start_time)\n",
    "temposQueries.append({\n",
    "    \"id\":\"polars\",\n",
    "    \"tempo\":15 * tempo.total_seconds() \n",
    "    #10mi x 15 = 150mi de dados, considerando que o tempo será constante para a mesma quantidade de dados sempre\n",
    "})\n",
    "result = \n",
    "print(result)"
   ]
  },
  {
   "cell_type": "code",
   "execution_count": 25,
   "id": "3838a0b4",
   "metadata": {},
   "outputs": [
    {
     "data": {
      "text/html": [
       "<div><style>\n",
       ".dataframe > thead > tr,\n",
       ".dataframe > tbody > tr {\n",
       "  text-align: right;\n",
       "  white-space: pre-wrap;\n",
       "}\n",
       "</style>\n",
       "<small>shape: (10, 4)</small><table border=\"1\" class=\"dataframe\"><thead><tr><th>origin_key</th><th>address</th><th>entity_key</th><th>blockchain</th></tr><tr><td>str</td><td>str</td><td>str</td><td>str</td></tr></thead><tbody><tr><td>&quot;flipside&quot;</td><td>&quot;0x937986b097e3…</td><td>&quot;dfyn&quot;</td><td>&quot;POLYGON&quot;</td></tr><tr><td>&quot;flipside&quot;</td><td>&quot;0xd4689694e992…</td><td>&quot;dfyn&quot;</td><td>&quot;POLYGON&quot;</td></tr><tr><td>&quot;flipside&quot;</td><td>&quot;0x0187a371c358…</td><td>&quot;apeswap&quot;</td><td>&quot;POLYGON&quot;</td></tr><tr><td>&quot;flipside&quot;</td><td>&quot;0xca17a86126c7…</td><td>&quot;apeswap&quot;</td><td>&quot;POLYGON&quot;</td></tr><tr><td>&quot;flipside&quot;</td><td>&quot;0x3f873e74e603…</td><td>&quot;apeswap&quot;</td><td>&quot;POLYGON&quot;</td></tr><tr><td>&quot;flipside&quot;</td><td>&quot;0xb4067c4e0dfb…</td><td>&quot;polyzap&quot;</td><td>&quot;POLYGON&quot;</td></tr><tr><td>&quot;flipside&quot;</td><td>&quot;0xd1ec85bb8f3d…</td><td>&quot;polyzap&quot;</td><td>&quot;POLYGON&quot;</td></tr><tr><td>&quot;flipside&quot;</td><td>&quot;0xf8e4563ae3e5…</td><td>&quot;polyzap&quot;</td><td>&quot;POLYGON&quot;</td></tr><tr><td>&quot;flipside&quot;</td><td>&quot;0xf440174c7523…</td><td>&quot;uniswap&quot;</td><td>&quot;POLYGON&quot;</td></tr><tr><td>&quot;flipside&quot;</td><td>&quot;0xc5a7bd442182…</td><td>&quot;uniswap&quot;</td><td>&quot;POLYGON&quot;</td></tr></tbody></table></div>"
      ],
      "text/plain": [
       "shape: (10, 4)\n",
       "┌────────────┬───────────────────────────────────┬────────────┬────────────┐\n",
       "│ origin_key ┆ address                           ┆ entity_key ┆ blockchain │\n",
       "│ ---        ┆ ---                               ┆ ---        ┆ ---        │\n",
       "│ str        ┆ str                               ┆ str        ┆ str        │\n",
       "╞════════════╪═══════════════════════════════════╪════════════╪════════════╡\n",
       "│ flipside   ┆ 0x937986b097e385a3b79c5671880d02… ┆ dfyn       ┆ POLYGON    │\n",
       "│ flipside   ┆ 0xd4689694e9928564647ad483c075f2… ┆ dfyn       ┆ POLYGON    │\n",
       "│ flipside   ┆ 0x0187a371c358401689f7ed9c0409f3… ┆ apeswap    ┆ POLYGON    │\n",
       "│ flipside   ┆ 0xca17a86126c7c7adacdfdef42d1885… ┆ apeswap    ┆ POLYGON    │\n",
       "│ …          ┆ …                                 ┆ …          ┆ …          │\n",
       "│ flipside   ┆ 0xd1ec85bb8f3d3adcb46ba430449966… ┆ polyzap    ┆ POLYGON    │\n",
       "│ flipside   ┆ 0xf8e4563ae3e5c51f25ad549ed7273e… ┆ polyzap    ┆ POLYGON    │\n",
       "│ flipside   ┆ 0xf440174c75236b89701bb1336fc278… ┆ uniswap    ┆ POLYGON    │\n",
       "│ flipside   ┆ 0xc5a7bd4421826fdb5184c6ada8e75f… ┆ uniswap    ┆ POLYGON    │\n",
       "└────────────┴───────────────────────────────────┴────────────┴────────────┘"
      ]
     },
     "execution_count": 25,
     "metadata": {},
     "output_type": "execute_result"
    }
   ],
   "source": [
    "polars_dataset"
   ]
  },
  {
   "cell_type": "code",
   "execution_count": 26,
   "id": "02e96b5d",
   "metadata": {},
   "outputs": [
    {
     "data": {
      "text/html": [
       "<div><style>\n",
       ".dataframe > thead > tr,\n",
       ".dataframe > tbody > tr {\n",
       "  text-align: right;\n",
       "  white-space: pre-wrap;\n",
       "}\n",
       "</style>\n",
       "<small>shape: (5, 4)</small><table border=\"1\" class=\"dataframe\"><thead><tr><th>id</th><th>cidade</th><th>estado</th><th>país</th></tr><tr><td>str</td><td>str</td><td>str</td><td>str</td></tr></thead><tbody><tr><td>&quot;1&quot;</td><td>&quot;Campinas&quot;</td><td>&quot;São Paulo&quot;</td><td>&quot;Brasil&quot;</td></tr><tr><td>&quot;2&quot;</td><td>&quot;São Paulo&quot;</td><td>&quot;São Paulo&quot;</td><td>&quot;Brasil&quot;</td></tr><tr><td>&quot;3&quot;</td><td>&quot;Tóquio&quot;</td><td>&quot;Tokyo-to&quot;</td><td>&quot;Japão&quot;</td></tr><tr><td>&quot;4&quot;</td><td>&quot;Melbourne&quot;</td><td>&quot;Vitória&quot;</td><td>&quot;Austrália&quot;</td></tr><tr><td>&quot;5&quot;</td><td>&quot;Dhali&quot;</td><td>&quot;Tamil Nadu&quot;</td><td>&quot;Índia&quot;</td></tr></tbody></table></div>"
      ],
      "text/plain": [
       "shape: (5, 4)\n",
       "┌─────┬───────────┬────────────┬───────────┐\n",
       "│ id  ┆ cidade    ┆ estado     ┆ país      │\n",
       "│ --- ┆ ---       ┆ ---        ┆ ---       │\n",
       "│ str ┆ str       ┆ str        ┆ str       │\n",
       "╞═════╪═══════════╪════════════╪═══════════╡\n",
       "│ 1   ┆ Campinas  ┆ São Paulo  ┆ Brasil    │\n",
       "│ 2   ┆ São Paulo ┆ São Paulo  ┆ Brasil    │\n",
       "│ 3   ┆ Tóquio    ┆ Tokyo-to   ┆ Japão     │\n",
       "│ 4   ┆ Melbourne ┆ Vitória    ┆ Austrália │\n",
       "│ 5   ┆ Dhali     ┆ Tamil Nadu ┆ Índia     │\n",
       "└─────┴───────────┴────────────┴───────────┘"
      ]
     },
     "execution_count": 26,
     "metadata": {},
     "output_type": "execute_result"
    }
   ],
   "source": [
    "# try to append in place\n",
    "df1.extend(polars_dataset)\n",
    "df1=df1.rename({\"origin_key\": \"id\",\"address\":\"cidade\",\"entity_key\":\"estado\",\"blockchain\":\"país\"})\n",
    "df1.head()"
   ]
  },
  {
   "cell_type": "code",
   "execution_count": null,
   "id": "599fa2a0",
   "metadata": {},
   "outputs": [],
   "source": []
  }
 ],
 "metadata": {
  "kernelspec": {
   "display_name": "Python 3 (ipykernel)",
   "language": "python",
   "name": "python3"
  },
  "language_info": {
   "codemirror_mode": {
    "name": "ipython",
    "version": 3
   },
   "file_extension": ".py",
   "mimetype": "text/x-python",
   "name": "python",
   "nbconvert_exporter": "python",
   "pygments_lexer": "ipython3",
   "version": "3.10.8"
  }
 },
 "nbformat": 4,
 "nbformat_minor": 5
}
